{
 "cells": [
  {
   "cell_type": "code",
   "execution_count": 4,
   "metadata": {},
   "outputs": [],
   "source": [
    "def load_translations(english_file, french_file, hindi_file):\n",
    "    with open(english_file, 'r', encoding='utf-8') as file:\n",
    "        english_sentences = file.read().strip().split('\\n')\n",
    "\n",
    "    with open(french_file, 'r', encoding='utf-8') as file:\n",
    "        french_sentences = file.read().strip().split('\\n')\n",
    "\n",
    "    with open(hindi_file, 'r', encoding='utf-8') as file:\n",
    "        hindi_sentences = file.read().strip().split('\\n')\n",
    "\n",
    "    return dict(zip(english_sentences, french_sentences)), dict(zip(english_sentences, hindi_sentences))\n",
    "\n",
    "def translate_to_french_and_hindi(sentence, english_to_french, english_to_hindi):\n",
    "    if len(sentence) != 10:\n",
    "        print(\"Error: Word length must be exactly 10 letters.\")\n",
    "        return\n",
    "    \n",
    "    french_translation = english_to_french.get(sentence)\n",
    "    hindi_translation = english_to_hindi.get(sentence)\n",
    "\n",
    "    print(f\"Looking for translations of '{sentence}'...\")\n",
    "    print(f\"Found French translation: {french_translation}\")\n",
    "    print(f\"Found Hindi translation: {hindi_translation}\\n\")\n",
    "\n",
    "    if french_translation and hindi_translation:\n",
    "        print(f\"English Sentence: {sentence}\")\n",
    "        print(f\"French Translation --> {french_translation}\")\n",
    "        print(f\"Hindi Translation  --> {hindi_translation}\")\n",
    "    else:\n",
    "        print(\"Translation not found.\")\n",
    "\n",
    "english_file = \"../data5/english.txt\"\n",
    "french_file = \"../data5/french.txt\"\n",
    "hindi_file = \"../data5/hindi.txt\"\n",
    "\n",
    "english_to_french, english_to_hindi = load_translations(english_file, french_file, hindi_file)"
   ]
  },
  {
   "cell_type": "code",
   "execution_count": 5,
   "metadata": {},
   "outputs": [
    {
     "name": "stdout",
     "output_type": "stream",
     "text": [
      "Looking for translations of 'simplicity'...\n",
      "Found French translation: simplicité\n",
      "Found Hindi translation: सरलता\n",
      "\n",
      "English Sentence: simplicity\n",
      "French Translation --> simplicité\n",
      "Hindi Translation  --> सरलता\n"
     ]
    }
   ],
   "source": [
    "sentence = \"simplicity\"\n",
    "translate_to_french_and_hindi(sentence, english_to_french, english_to_hindi)"
   ]
  }
 ],
 "metadata": {
  "kernelspec": {
   "display_name": "nullclass1",
   "language": "python",
   "name": "python3"
  },
  "language_info": {
   "codemirror_mode": {
    "name": "ipython",
    "version": 3
   },
   "file_extension": ".py",
   "mimetype": "text/x-python",
   "name": "python",
   "nbconvert_exporter": "python",
   "pygments_lexer": "ipython3",
   "version": "3.9.18"
  }
 },
 "nbformat": 4,
 "nbformat_minor": 2
}
